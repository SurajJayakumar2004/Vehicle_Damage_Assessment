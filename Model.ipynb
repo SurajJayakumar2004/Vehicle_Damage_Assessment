{
 "cells": [
  {
   "cell_type": "code",
   "execution_count": 9,
   "metadata": {
    "colab": {
     "base_uri": "https://localhost:8080/"
    },
    "executionInfo": {
     "elapsed": 3507,
     "status": "ok",
     "timestamp": 1757777181774,
     "user": {
      "displayName": "Suraj Jayakumar",
      "userId": "16596262866308992375"
     },
     "user_tz": -330
    },
    "id": "626b3e72",
    "outputId": "e6a41d4a-990e-46a4-ff6b-324e2b26eebc"
   },
   "outputs": [
    {
     "name": "stdout",
     "output_type": "stream",
     "text": [
      "Found 5200 files belonging to 2 classes.\n",
      "Found 1416 files belonging to 2 classes.\n",
      "Class names: ['Fraud', 'Non-Fraud']\n",
      "Number of training batches: 163\n",
      "Number of testing batches: 45\n",
      "Found 1416 files belonging to 2 classes.\n",
      "Class names: ['Fraud', 'Non-Fraud']\n",
      "Number of training batches: 163\n",
      "Number of testing batches: 45\n"
     ]
    }
   ],
   "source": [
    "import tensorflow as tf\n",
    "import numpy as np\n",
    "import os\n",
    "\n",
    "# Define the image dimensions and batch size\n",
    "img_height = 256\n",
    "img_width = 256\n",
    "batch_size = 32 # Increased batch size for potentially faster training\n",
    "\n",
    "# Define the directories for training and testing data\n",
    "train_dir = os.path.join(os.getcwd(), \"data\", \"train\")\n",
    "test_dir = os.path.join(os.getcwd(), \"data\", \"test\")\n",
    "\n",
    "# Load the training dataset\n",
    "train_ds = tf.keras.utils.image_dataset_from_directory(\n",
    "    train_dir,\n",
    "    labels='inferred',\n",
    "    label_mode='int',\n",
    "    image_size=(img_height, img_width),\n",
    "    interpolation='nearest',\n",
    "    batch_size=batch_size,\n",
    "    shuffle=True\n",
    ")\n",
    "\n",
    "# Load the testing dataset\n",
    "test_ds = tf.keras.utils.image_dataset_from_directory(\n",
    "    test_dir,\n",
    "    labels='inferred',\n",
    "    label_mode='int',\n",
    "    image_size=(img_height, img_width),\n",
    "    interpolation='nearest',\n",
    "    batch_size=batch_size,\n",
    "    shuffle=False # No need to shuffle test data\n",
    ")\n",
    "\n",
    "# Get the class names\n",
    "class_names = train_ds.class_names\n",
    "print(\"Class names:\", class_names)\n",
    "\n",
    "# Display the number of batches in the datasets\n",
    "print(\"Number of training batches:\", tf.data.experimental.cardinality(train_ds).numpy())\n",
    "print(\"Number of testing batches:\", tf.data.experimental.cardinality(test_ds).numpy())"
   ]
  },
  {
   "cell_type": "markdown",
   "metadata": {
    "id": "a0088fcd"
   },
   "source": [
    "Next, we will analyze and address the class imbalance."
   ]
  },
  {
   "cell_type": "code",
   "execution_count": 10,
   "metadata": {
    "colab": {
     "base_uri": "https://localhost:8080/"
    },
    "executionInfo": {
     "elapsed": 41005,
     "status": "ok",
     "timestamp": 1757777223201,
     "user": {
      "displayName": "Suraj Jayakumar",
      "userId": "16596262866308992375"
     },
     "user_tz": -330
    },
    "id": "865780bd",
    "outputId": "608b7fe5-70a9-4732-8d0f-2acbe5a0abbd"
   },
   "outputs": [
    {
     "name": "stderr",
     "output_type": "stream",
     "text": [
      "2025-09-14 00:09:34.885048: I tensorflow/core/kernels/data/shuffle_dataset_op.cc:422] ShuffleDatasetV3:18: Filling up shuffle buffer (this may take a while): 37 of 256\n",
      "2025-09-14 00:09:52.425029: I tensorflow/core/kernels/data/shuffle_dataset_op.cc:452] Shuffle buffer filled.\n",
      "2025-09-14 00:09:52.425029: I tensorflow/core/kernels/data/shuffle_dataset_op.cc:452] Shuffle buffer filled.\n"
     ]
    },
    {
     "name": "stdout",
     "output_type": "stream",
     "text": [
      "Fraud samples in training data: 200\n",
      "Non-fraud samples in training data: 5000\n",
      "Total samples in training data: 5200\n",
      "Class weights: {0: 13.0, 1: 0.52}\n"
     ]
    }
   ],
   "source": [
    "# Analyze class distribution in the training data\n",
    "fraud_count = 0\n",
    "non_fraud_count = 0\n",
    "num_classes = 2  # Set explicitly since Colab sometimes inferred this from context\n",
    "\n",
    "for images, labels in train_ds:\n",
    "    fraud_count += tf.reduce_sum(tf.cast(labels == 0, tf.int32)).numpy()\n",
    "    non_fraud_count += tf.reduce_sum(tf.cast(labels == 1, tf.int32)).numpy()\n",
    "\n",
    "total_samples = fraud_count + non_fraud_count\n",
    "\n",
    "print(f\"Fraud samples in training data: {fraud_count}\")\n",
    "print(f\"Non-fraud samples in training data: {non_fraud_count}\")\n",
    "print(f\"Total samples in training data: {total_samples}\")\n",
    "\n",
    "# Calculate class weights to handle imbalance\n",
    "# The 'fraud' class is 0 and 'non fraud' is 1 based on the directory loading order\n",
    "weight_for_0 = (total_samples / (num_classes * fraud_count)) if fraud_count > 0 else 1.0\n",
    "weight_for_1 = (total_samples / (num_classes * non_fraud_count)) if non_fraud_count > 0 else 1.0\n",
    "\n",
    "class_weight = {0: weight_for_0, 1: weight_for_1}\n",
    "\n",
    "print(\"Class weights:\", class_weight)"
   ]
  },
  {
   "cell_type": "markdown",
   "metadata": {
    "id": "02b32c76"
   },
   "source": [
    "Now, we will set up the data augmentation layers."
   ]
  },
  {
   "cell_type": "code",
   "execution_count": null,
   "metadata": {
    "executionInfo": {
     "elapsed": 10,
     "status": "ok",
     "timestamp": 1757777223645,
     "user": {
      "displayName": "Suraj Jayakumar",
      "userId": "16596262866308992375"
     },
     "user_tz": -330
    },
    "id": "369e4490"
   },
   "outputs": [],
   "source": [
    "from tensorflow.keras import layers\n",
    "from tensorflow.keras.models import Sequential\n",
    "\n",
    "# Create a data augmentation sequence\n",
    "data_augmentation = Sequential([\n",
    "  layers.RandomFlip(\"horizontal_and_vertical\"),\n",
    "  layers.RandomRotation(0.2),\n",
    "  layers.RandomZoom(0.2),\n",
    "  layers.RandomContrast(0.2),\n",
    "])"
   ]
  },
  {
   "cell_type": "markdown",
   "metadata": {
    "id": "4c2c40a8"
   },
   "source": [
    "Now, we will build the first model using transfer learning with EfficientNetV2-B0."
   ]
  },
  {
   "cell_type": "code",
   "execution_count": 14,
   "metadata": {
    "colab": {
     "base_uri": "https://localhost:8080/",
     "height": 307
    },
    "executionInfo": {
     "elapsed": 3829,
     "status": "ok",
     "timestamp": 1757777244765,
     "user": {
      "displayName": "Suraj Jayakumar",
      "userId": "16596262866308992375"
     },
     "user_tz": -330
    },
    "id": "6eb33b62",
    "outputId": "090be101-0559-41a3-c70b-5c70274473e4"
   },
   "outputs": [
    {
     "name": "stdout",
     "output_type": "stream",
     "text": [
      "Model: \"sequential_5\"\n",
      "_________________________________________________________________\n",
      " Layer (type)                Output Shape              Param #   \n",
      "=================================================================\n",
      " sequential_2 (Sequential)   (None, 256, 256, 3)       0         \n",
      "                                                                 \n",
      " efficientnetv2-b0 (Functio  (None, 8, 8, 1280)        5919312   \n",
      " nal)                                                            \n",
      "                                                                 \n",
      " global_average_pooling2d_3  (None, 1280)              0         \n",
      "  (GlobalAveragePooling2D)                                       \n",
      "                                                                 \n",
      " dense_3 (Dense)             (None, 1)                 1281      \n",
      "                                                                 \n",
      "=================================================================\n",
      "Total params: 5920593 (22.59 MB)\n",
      "Trainable params: 1281 (5.00 KB)\n",
      "Non-trainable params: 5919312 (22.58 MB)\n",
      "_________________________________________________________________\n"
     ]
    }
   ],
   "source": [
    "from tensorflow.keras.applications import EfficientNetV2B0\n",
    "from tensorflow.keras import layers\n",
    "from tensorflow.keras.models import Sequential\n",
    "\n",
    "# Create the base model from the pre-trained EfficientNetV2B0 model\n",
    "base_model_effnet = EfficientNetV2B0(input_shape=(img_height, img_width, 3),\n",
    "                                     include_top=False,\n",
    "                                     weights='imagenet')\n",
    "\n",
    "# Freeze the base model to prevent its weights from being updated during training\n",
    "base_model_effnet.trainable = False\n",
    "\n",
    "# Build the model on top of the base model\n",
    "model_effnet = Sequential([\n",
    "    data_augmentation,\n",
    "    base_model_effnet,\n",
    "    layers.GlobalAveragePooling2D(),\n",
    "    layers.Dense(1, activation='sigmoid') # Output layer for binary classification\n",
    "])\n",
    "\n",
    "# Compile the model\n",
    "model_effnet.compile(optimizer='adam',\n",
    "                     loss='binary_crossentropy', # Using binary crossentropy for binary classification\n",
    "                     metrics=['accuracy'])\n",
    "\n",
    "# Display the model summary\n",
    "model_effnet.build((None, img_height, img_width, 3))\n",
    "model_effnet.summary()"
   ]
  },
  {
   "cell_type": "markdown",
   "metadata": {
    "id": "4738d55f"
   },
   "source": [
    "Now, we will train the EfficientNetV2-B0 model."
   ]
  },
  {
   "cell_type": "code",
   "execution_count": 15,
   "metadata": {
    "colab": {
     "base_uri": "https://localhost:8080/"
    },
    "executionInfo": {
     "elapsed": 969540,
     "status": "ok",
     "timestamp": 1757778226293,
     "user": {
      "displayName": "Suraj Jayakumar",
      "userId": "16596262866308992375"
     },
     "user_tz": -330
    },
    "id": "4be67959",
    "outputId": "fb2330cf-5a30-4766-9ad2-076140e41112"
   },
   "outputs": [
    {
     "name": "stdout",
     "output_type": "stream",
     "text": [
      "Epoch 1/10\n",
      "163/163 [==============================] - 460s 3s/step - loss: 0.5650 - accuracy: 0.7137 - val_loss: 0.2833 - val_accuracy: 0.9322\n",
      "Epoch 2/10\n",
      "163/163 [==============================] - 96s 587ms/step - loss: 0.4791 - accuracy: 0.7913 - val_loss: 0.3024 - val_accuracy: 0.9138\n",
      "Epoch 3/10\n",
      "163/163 [==============================] - 93s 568ms/step - loss: 0.4266 - accuracy: 0.8179 - val_loss: 0.2230 - val_accuracy: 0.9350\n",
      "Epoch 4/10\n",
      "163/163 [==============================] - 91s 554ms/step - loss: 0.3921 - accuracy: 0.8362 - val_loss: 0.2088 - val_accuracy: 0.9371\n",
      "Epoch 5/10\n",
      "163/163 [==============================] - 91s 555ms/step - loss: 0.3991 - accuracy: 0.8229 - val_loss: 0.2509 - val_accuracy: 0.9230\n",
      "Epoch 6/10\n",
      "163/163 [==============================] - 95s 578ms/step - loss: 0.3848 - accuracy: 0.8390 - val_loss: 0.2441 - val_accuracy: 0.9251\n",
      "Epoch 7/10\n",
      "163/163 [==============================] - 92s 562ms/step - loss: 0.3851 - accuracy: 0.8390 - val_loss: 0.2709 - val_accuracy: 0.9153\n",
      "Epoch 8/10\n",
      "163/163 [==============================] - 92s 560ms/step - loss: 0.3703 - accuracy: 0.8381 - val_loss: 0.2673 - val_accuracy: 0.9124\n",
      "Epoch 9/10\n",
      "163/163 [==============================] - 91s 556ms/step - loss: 0.3556 - accuracy: 0.8512 - val_loss: 0.2872 - val_accuracy: 0.8990\n",
      "Epoch 10/10\n",
      "163/163 [==============================] - 92s 559ms/step - loss: 0.3563 - accuracy: 0.8483 - val_loss: 0.2338 - val_accuracy: 0.9280\n"
     ]
    }
   ],
   "source": [
    "epochs = 10 # You can adjust the number of epochs\n",
    "history_effnet = model_effnet.fit(\n",
    "    train_ds,\n",
    "    epochs=epochs,\n",
    "    class_weight=class_weight,\n",
    "    validation_data=test_ds # Use test_ds as validation data for monitoring\n",
    ")"
   ]
  },
  {
   "cell_type": "markdown",
   "metadata": {
    "id": "5c8b7895"
   },
   "source": [
    "Now, we will build the second model using transfer learning with ResNet50."
   ]
  },
  {
   "cell_type": "code",
   "execution_count": 20,
   "metadata": {
    "colab": {
     "base_uri": "https://localhost:8080/",
     "height": 327
    },
    "executionInfo": {
     "elapsed": 5782,
     "status": "ok",
     "timestamp": 1757778250648,
     "user": {
      "displayName": "Suraj Jayakumar",
      "userId": "16596262866308992375"
     },
     "user_tz": -330
    },
    "id": "649a665d",
    "outputId": "294e859d-077d-4c6e-b3f4-a8b9d53ccbbe"
   },
   "outputs": [
    {
     "name": "stdout",
     "output_type": "stream",
     "text": [
      "Model: \"sequential_10\"\n",
      "_________________________________________________________________\n",
      " Layer (type)                Output Shape              Param #   \n",
      "=================================================================\n",
      " sequential_2 (Sequential)   (None, 256, 256, 3)       0         \n",
      "                                                                 \n",
      " resnet50 (Functional)       (None, 8, 8, 2048)        23587712  \n",
      "                                                                 \n",
      " global_average_pooling2d_8  (None, 2048)              0         \n",
      "  (GlobalAveragePooling2D)                                       \n",
      "                                                                 \n",
      " dense_8 (Dense)             (None, 1)                 2049      \n",
      "                                                                 \n",
      "=================================================================\n",
      "Total params: 23589761 (89.99 MB)\n",
      "Trainable params: 2049 (8.00 KB)\n",
      "Non-trainable params: 23587712 (89.98 MB)\n",
      "_________________________________________________________________\n"
     ]
    }
   ],
   "source": [
    "from tensorflow.keras.applications import ResNet50\n",
    "from tensorflow.keras import layers\n",
    "from tensorflow.keras.models import Sequential\n",
    "\n",
    "# Create the base model from the pre-trained ResNet50 model\n",
    "base_model_resnet = ResNet50(input_shape=(img_height, img_width, 3),\n",
    "                             include_top=False,\n",
    "                             weights='imagenet')\n",
    "\n",
    "# Freeze the base model\n",
    "base_model_resnet.trainable = False\n",
    "\n",
    "# Build the model on top of the base model\n",
    "model_resnet = Sequential([\n",
    "    data_augmentation,\n",
    "    base_model_resnet,\n",
    "    layers.GlobalAveragePooling2D(),\n",
    "    layers.Dense(1, activation='sigmoid') # Output layer for binary classification\n",
    "])\n",
    "\n",
    "# Compile the model\n",
    "model_resnet.compile(optimizer='adam',\n",
    "                     loss='binary_crossentropy',\n",
    "                     metrics=['accuracy'])\n",
    "\n",
    "# Display the model summary\n",
    "model_resnet.build((None, img_height, img_width, 3))\n",
    "model_resnet.summary()"
   ]
  },
  {
   "cell_type": "markdown",
   "metadata": {
    "id": "affad6de"
   },
   "source": [
    "Now, we will train the ResNet50 model."
   ]
  },
  {
   "cell_type": "code",
   "execution_count": 24,
   "metadata": {
    "colab": {
     "base_uri": "https://localhost:8080/"
    },
    "executionInfo": {
     "elapsed": 508665,
     "status": "ok",
     "timestamp": 1757778772648,
     "user": {
      "displayName": "Suraj Jayakumar",
      "userId": "16596262866308992375"
     },
     "user_tz": -330
    },
    "id": "2a59480c",
    "outputId": "385d530d-25dd-4814-ce18-92ae020975a8"
   },
   "outputs": [
    {
     "name": "stdout",
     "output_type": "stream",
     "text": [
      "Epoch 1/10\n",
      "163/163 [==============================] - 274s 2s/step - loss: 0.4462 - accuracy: 0.7952 - val_loss: 0.4238 - val_accuracy: 0.8107\n",
      "Epoch 2/10\n",
      "163/163 [==============================] - 273s 2s/step - loss: 0.4079 - accuracy: 0.8200 - val_loss: 0.4073 - val_accuracy: 0.8242\n",
      "Epoch 3/10\n",
      "163/163 [==============================] - 273s 2s/step - loss: 0.3909 - accuracy: 0.8269 - val_loss: 0.2463 - val_accuracy: 0.9117\n",
      "Epoch 4/10\n",
      "163/163 [==============================] - 278s 2s/step - loss: 0.3922 - accuracy: 0.8167 - val_loss: 0.2027 - val_accuracy: 0.9308\n",
      "Epoch 5/10\n",
      "163/163 [==============================] - 272s 2s/step - loss: 0.3468 - accuracy: 0.8487 - val_loss: 0.2797 - val_accuracy: 0.8849\n",
      "Epoch 6/10\n",
      "163/163 [==============================] - 270s 2s/step - loss: 0.3395 - accuracy: 0.8494 - val_loss: 0.2358 - val_accuracy: 0.9047\n",
      "Epoch 7/10\n",
      "163/163 [==============================] - 274s 2s/step - loss: 0.3314 - accuracy: 0.8550 - val_loss: 0.2505 - val_accuracy: 0.8983\n",
      "Epoch 8/10\n",
      "163/163 [==============================] - 269s 2s/step - loss: 0.3357 - accuracy: 0.8519 - val_loss: 0.2279 - val_accuracy: 0.9145\n",
      "Epoch 9/10\n",
      "163/163 [==============================] - 274s 2s/step - loss: 0.3236 - accuracy: 0.8663 - val_loss: 0.1815 - val_accuracy: 0.9308\n",
      "Epoch 10/10\n",
      "163/163 [==============================] - 270s 2s/step - loss: 0.2909 - accuracy: 0.8738 - val_loss: 0.2066 - val_accuracy: 0.9202\n"
     ]
    }
   ],
   "source": [
    "epochs = 10 # You can adjust the number of epochs\n",
    "history_resnet = model_resnet.fit(\n",
    "    train_ds,\n",
    "    epochs=epochs,\n",
    "    class_weight=class_weight,\n",
    "    validation_data=test_ds # Use test_ds as validation data for monitoring\n",
    ")"
   ]
  },
  {
   "cell_type": "markdown",
   "metadata": {
    "id": "1fafae31"
   },
   "source": [
    "Now, we will build the third model using transfer learning with ConvNeXt-Tiny."
   ]
  },
  {
   "cell_type": "code",
   "execution_count": 25,
   "metadata": {
    "colab": {
     "base_uri": "https://localhost:8080/",
     "height": 307
    },
    "executionInfo": {
     "elapsed": 5691,
     "status": "ok",
     "timestamp": 1757779370602,
     "user": {
      "displayName": "Suraj Jayakumar",
      "userId": "16596262866308992375"
     },
     "user_tz": -330
    },
    "id": "cbfbad17",
    "outputId": "5f40e261-f13f-4e9d-afaa-ab462488892f"
   },
   "outputs": [
    {
     "name": "stdout",
     "output_type": "stream",
     "text": [
      "Model: \"sequential_13\"\n",
      "_________________________________________________________________\n",
      " Layer (type)                Output Shape              Param #   \n",
      "=================================================================\n",
      " sequential_2 (Sequential)   (None, 256, 256, 3)       0         \n",
      "                                                                 \n",
      " convnext_tiny (Functional)  (None, 8, 8, 768)         27820128  \n",
      "                                                                 \n",
      " global_average_pooling2d_1  (None, 768)               0         \n",
      " 1 (GlobalAveragePooling2D)                                      \n",
      "                                                                 \n",
      " dense_11 (Dense)            (None, 1)                 769       \n",
      "                                                                 \n",
      "=================================================================\n",
      "Total params: 27820897 (106.13 MB)\n",
      "Trainable params: 769 (3.00 KB)\n",
      "Non-trainable params: 27820128 (106.13 MB)\n",
      "_________________________________________________________________\n"
     ]
    }
   ],
   "source": [
    "from tensorflow.keras.applications import ConvNeXtTiny\n",
    "from tensorflow.keras import layers\n",
    "from tensorflow.keras.models import Sequential\n",
    "\n",
    "# Create the base model from the pre-trained ConvNeXtTiny model\n",
    "base_model_convnext = ConvNeXtTiny(input_shape=(img_height, img_width, 3),\n",
    "                                    include_top=False,\n",
    "                                    weights='imagenet')\n",
    "\n",
    "# Freeze the base model\n",
    "base_model_convnext.trainable = False\n",
    "\n",
    "# Build the model on top of the base model\n",
    "model_convnext = Sequential([\n",
    "    data_augmentation,\n",
    "    base_model_convnext,\n",
    "    layers.GlobalAveragePooling2D(),\n",
    "    layers.Dense(1, activation='sigmoid') # Output layer for binary classification\n",
    "])\n",
    "\n",
    "# Compile the model\n",
    "model_convnext.compile(optimizer='adam',\n",
    "                       loss='binary_crossentropy',\n",
    "                       metrics=['accuracy'])\n",
    "\n",
    "# Display the model summary\n",
    "model_convnext.build((None, img_height, img_width, 3))\n",
    "model_convnext.summary()"
   ]
  },
  {
   "cell_type": "markdown",
   "metadata": {
    "id": "b4681175"
   },
   "source": [
    "Now, we will train the ConvNeXt-Tiny model."
   ]
  },
  {
   "cell_type": "code",
   "execution_count": null,
   "metadata": {
    "colab": {
     "base_uri": "https://localhost:8080/"
    },
    "executionInfo": {
     "elapsed": 1094692,
     "status": "ok",
     "timestamp": 1757780478752,
     "user": {
      "displayName": "Suraj Jayakumar",
      "userId": "16596262866308992375"
     },
     "user_tz": -330
    },
    "id": "6ad852de",
    "outputId": "4228f845-0cda-45df-bb9a-a155a9fd6fcc"
   },
   "outputs": [
    {
     "name": "stdout",
     "output_type": "stream",
     "text": [
      "Epoch 1/10\n"
     ]
    },
    {
     "name": "stderr",
     "output_type": "stream",
     "text": [
      "2025-09-14 01:43:40.877087: I external/local_xla/xla/service/service.cc:168] XLA service 0x36603aa00 initialized for platform Host (this does not guarantee that XLA will be used). Devices:\n",
      "2025-09-14 01:43:40.877115: I external/local_xla/xla/service/service.cc:176]   StreamExecutor device (0): Host, Default Version\n",
      "WARNING: All log messages before absl::InitializeLog() is called are written to STDERR\n",
      "I0000 00:00:1757794421.051083       1 device_compiler.h:186] Compiled cluster using XLA!  This line is logged at most once for the lifetime of the process.\n",
      "2025-09-14 01:43:41.052319: E external/local_xla/xla/stream_executor/stream_executor_internal.h:177] SetPriority unimplemented for this stream.\n"
     ]
    },
    {
     "name": "stdout",
     "output_type": "stream",
     "text": [
      "163/163 [==============================] - 1481s 9s/step - loss: 0.6346 - accuracy: 0.6338 - val_loss: 0.4708 - val_accuracy: 0.8856\n",
      "Epoch 2/10\n",
      "163/163 [==============================] - 25002s 154s/step - loss: 0.5334 - accuracy: 0.7817 - val_loss: 0.3491 - val_accuracy: 0.9308\n",
      "Epoch 3/10\n",
      "163/163 [==============================] - 1712s 11s/step - loss: 0.4769 - accuracy: 0.8048 - val_loss: 0.3990 - val_accuracy: 0.8821\n",
      "Epoch 4/10\n",
      "163/163 [==============================] - 1715s 11s/step - loss: 0.4606 - accuracy: 0.8160 - val_loss: 0.3728 - val_accuracy: 0.8870\n",
      "Epoch 5/10\n",
      "163/163 [==============================] - 1546s 9s/step - loss: 0.4436 - accuracy: 0.8338 - val_loss: 0.3103 - val_accuracy: 0.9237\n",
      "Epoch 6/10\n",
      "163/163 [==============================] - 1546s 9s/step - loss: 0.4135 - accuracy: 0.8348 - val_loss: 0.3122 - val_accuracy: 0.9174\n",
      "Epoch 7/10\n",
      "163/163 [==============================] - 1524s 9s/step - loss: 0.4025 - accuracy: 0.8342 - val_loss: 0.3112 - val_accuracy: 0.9160\n",
      "Epoch 8/10\n",
      "163/163 [==============================] - 1503s 9s/step - loss: 0.4071 - accuracy: 0.8381 - val_loss: 0.2935 - val_accuracy: 0.9216\n",
      "Epoch 9/10\n",
      "163/163 [==============================] - ETA: 0s - loss: 0.3973 - accuracy: 0.8419"
     ]
    }
   ],
   "source": [
    "epochs = 10 # You can adjust the number of epochs\n",
    "history_convnext = model_convnext.fit(\n",
    "    train_ds,\n",
    "    epochs=epochs,\n",
    "    class_weight=class_weight,\n",
    "    validation_data=test_ds # Use test_ds as validation data for monitoring\n",
    ")"
   ]
  },
  {
   "cell_type": "markdown",
   "metadata": {
    "id": "a8c6d1dd"
   },
   "source": [
    "Now, we will create an ensemble of the trained models."
   ]
  },
  {
   "cell_type": "code",
   "execution_count": null,
   "metadata": {
    "colab": {
     "base_uri": "https://localhost:8080/",
     "height": 673
    },
    "executionInfo": {
     "elapsed": 69,
     "status": "ok",
     "timestamp": 1757781492385,
     "user": {
      "displayName": "Suraj Jayakumar",
      "userId": "16596262866308992375"
     },
     "user_tz": -330
    },
    "id": "5e869e36",
    "outputId": "2a093316-b5f1-487f-b6f7-2155d614bce3"
   },
   "outputs": [
    {
     "data": {
      "text/html": [
       "<pre style=\"white-space:pre;overflow-x:auto;line-height:normal;font-family:Menlo,'DejaVu Sans Mono',consolas,'Courier New',monospace\"><span style=\"font-weight: bold\">Model: \"functional_10\"</span>\n",
       "</pre>\n"
      ],
      "text/plain": [
       "\u001b[1mModel: \"functional_10\"\u001b[0m\n"
      ]
     },
     "metadata": {},
     "output_type": "display_data"
    },
    {
     "data": {
      "text/html": [
       "<pre style=\"white-space:pre;overflow-x:auto;line-height:normal;font-family:Menlo,'DejaVu Sans Mono',consolas,'Courier New',monospace\">┏━━━━━━━━━━━━━━━━━━━━━┳━━━━━━━━━━━━━━━━━━━┳━━━━━━━━━━━━┳━━━━━━━━━━━━━━━━━━━┓\n",
       "┃<span style=\"font-weight: bold\"> Layer (type)        </span>┃<span style=\"font-weight: bold\"> Output Shape      </span>┃<span style=\"font-weight: bold\">    Param # </span>┃<span style=\"font-weight: bold\"> Connected to      </span>┃\n",
       "┡━━━━━━━━━━━━━━━━━━━━━╇━━━━━━━━━━━━━━━━━━━╇━━━━━━━━━━━━╇━━━━━━━━━━━━━━━━━━━┩\n",
       "│ input_layer_13      │ (<span style=\"color: #00d7ff; text-decoration-color: #00d7ff\">None</span>, <span style=\"color: #00af00; text-decoration-color: #00af00\">256</span>, <span style=\"color: #00af00; text-decoration-color: #00af00\">256</span>,  │          <span style=\"color: #00af00; text-decoration-color: #00af00\">0</span> │ -                 │\n",
       "│ (<span style=\"color: #0087ff; text-decoration-color: #0087ff\">InputLayer</span>)        │ <span style=\"color: #00af00; text-decoration-color: #00af00\">3</span>)                │            │                   │\n",
       "├─────────────────────┼───────────────────┼────────────┼───────────────────┤\n",
       "│ sequential_2        │ (<span style=\"color: #00d7ff; text-decoration-color: #00d7ff\">None</span>, <span style=\"color: #00af00; text-decoration-color: #00af00\">256</span>, <span style=\"color: #00af00; text-decoration-color: #00af00\">256</span>,  │          <span style=\"color: #00af00; text-decoration-color: #00af00\">0</span> │ input_layer_13[<span style=\"color: #00af00; text-decoration-color: #00af00\">0</span>… │\n",
       "│ (<span style=\"color: #0087ff; text-decoration-color: #0087ff\">Sequential</span>)        │ <span style=\"color: #00af00; text-decoration-color: #00af00\">3</span>)                │            │                   │\n",
       "├─────────────────────┼───────────────────┼────────────┼───────────────────┤\n",
       "│ efficientnetv2-b0   │ (<span style=\"color: #00d7ff; text-decoration-color: #00d7ff\">None</span>, <span style=\"color: #00af00; text-decoration-color: #00af00\">8</span>, <span style=\"color: #00af00; text-decoration-color: #00af00\">8</span>,      │  <span style=\"color: #00af00; text-decoration-color: #00af00\">5,919,312</span> │ sequential_2[<span style=\"color: #00af00; text-decoration-color: #00af00\">3</span>][<span style=\"color: #00af00; text-decoration-color: #00af00\">…</span> │\n",
       "│ (<span style=\"color: #0087ff; text-decoration-color: #0087ff\">Functional</span>)        │ <span style=\"color: #00af00; text-decoration-color: #00af00\">1280</span>)             │            │                   │\n",
       "├─────────────────────┼───────────────────┼────────────┼───────────────────┤\n",
       "│ resnet50            │ (<span style=\"color: #00d7ff; text-decoration-color: #00d7ff\">None</span>, <span style=\"color: #00af00; text-decoration-color: #00af00\">8</span>, <span style=\"color: #00af00; text-decoration-color: #00af00\">8</span>,      │ <span style=\"color: #00af00; text-decoration-color: #00af00\">23,587,712</span> │ sequential_2[<span style=\"color: #00af00; text-decoration-color: #00af00\">3</span>][<span style=\"color: #00af00; text-decoration-color: #00af00\">…</span> │\n",
       "│ (<span style=\"color: #0087ff; text-decoration-color: #0087ff\">Functional</span>)        │ <span style=\"color: #00af00; text-decoration-color: #00af00\">2048</span>)             │            │                   │\n",
       "├─────────────────────┼───────────────────┼────────────┼───────────────────┤\n",
       "│ convnext_tiny       │ (<span style=\"color: #00d7ff; text-decoration-color: #00d7ff\">None</span>, <span style=\"color: #00af00; text-decoration-color: #00af00\">8</span>, <span style=\"color: #00af00; text-decoration-color: #00af00\">8</span>, <span style=\"color: #00af00; text-decoration-color: #00af00\">768</span>) │ <span style=\"color: #00af00; text-decoration-color: #00af00\">27,820,128</span> │ sequential_2[<span style=\"color: #00af00; text-decoration-color: #00af00\">3</span>][<span style=\"color: #00af00; text-decoration-color: #00af00\">…</span> │\n",
       "│ (<span style=\"color: #0087ff; text-decoration-color: #0087ff\">Functional</span>)        │                   │            │                   │\n",
       "├─────────────────────┼───────────────────┼────────────┼───────────────────┤\n",
       "│ global_average_poo… │ (<span style=\"color: #00d7ff; text-decoration-color: #00d7ff\">None</span>, <span style=\"color: #00af00; text-decoration-color: #00af00\">1280</span>)      │          <span style=\"color: #00af00; text-decoration-color: #00af00\">0</span> │ efficientnetv2-b… │\n",
       "│ (<span style=\"color: #0087ff; text-decoration-color: #0087ff\">GlobalAveragePool…</span> │                   │            │                   │\n",
       "├─────────────────────┼───────────────────┼────────────┼───────────────────┤\n",
       "│ global_average_poo… │ (<span style=\"color: #00d7ff; text-decoration-color: #00d7ff\">None</span>, <span style=\"color: #00af00; text-decoration-color: #00af00\">2048</span>)      │          <span style=\"color: #00af00; text-decoration-color: #00af00\">0</span> │ resnet50[<span style=\"color: #00af00; text-decoration-color: #00af00\">1</span>][<span style=\"color: #00af00; text-decoration-color: #00af00\">0</span>]    │\n",
       "│ (<span style=\"color: #0087ff; text-decoration-color: #0087ff\">GlobalAveragePool…</span> │                   │            │                   │\n",
       "├─────────────────────┼───────────────────┼────────────┼───────────────────┤\n",
       "│ global_average_poo… │ (<span style=\"color: #00d7ff; text-decoration-color: #00d7ff\">None</span>, <span style=\"color: #00af00; text-decoration-color: #00af00\">768</span>)       │          <span style=\"color: #00af00; text-decoration-color: #00af00\">0</span> │ convnext_tiny[<span style=\"color: #00af00; text-decoration-color: #00af00\">1</span>]… │\n",
       "│ (<span style=\"color: #0087ff; text-decoration-color: #0087ff\">GlobalAveragePool…</span> │                   │            │                   │\n",
       "├─────────────────────┼───────────────────┼────────────┼───────────────────┤\n",
       "│ dense_4 (<span style=\"color: #0087ff; text-decoration-color: #0087ff\">Dense</span>)     │ (<span style=\"color: #00d7ff; text-decoration-color: #00d7ff\">None</span>, <span style=\"color: #00af00; text-decoration-color: #00af00\">1</span>)         │      <span style=\"color: #00af00; text-decoration-color: #00af00\">1,281</span> │ global_average_p… │\n",
       "├─────────────────────┼───────────────────┼────────────┼───────────────────┤\n",
       "│ dense_5 (<span style=\"color: #0087ff; text-decoration-color: #0087ff\">Dense</span>)     │ (<span style=\"color: #00d7ff; text-decoration-color: #00d7ff\">None</span>, <span style=\"color: #00af00; text-decoration-color: #00af00\">1</span>)         │      <span style=\"color: #00af00; text-decoration-color: #00af00\">2,049</span> │ global_average_p… │\n",
       "├─────────────────────┼───────────────────┼────────────┼───────────────────┤\n",
       "│ dense_6 (<span style=\"color: #0087ff; text-decoration-color: #0087ff\">Dense</span>)     │ (<span style=\"color: #00d7ff; text-decoration-color: #00d7ff\">None</span>, <span style=\"color: #00af00; text-decoration-color: #00af00\">1</span>)         │        <span style=\"color: #00af00; text-decoration-color: #00af00\">769</span> │ global_average_p… │\n",
       "├─────────────────────┼───────────────────┼────────────┼───────────────────┤\n",
       "│ average (<span style=\"color: #0087ff; text-decoration-color: #0087ff\">Average</span>)   │ (<span style=\"color: #00d7ff; text-decoration-color: #00d7ff\">None</span>, <span style=\"color: #00af00; text-decoration-color: #00af00\">1</span>)         │          <span style=\"color: #00af00; text-decoration-color: #00af00\">0</span> │ dense_4[<span style=\"color: #00af00; text-decoration-color: #00af00\">1</span>][<span style=\"color: #00af00; text-decoration-color: #00af00\">0</span>],    │\n",
       "│                     │                   │            │ dense_5[<span style=\"color: #00af00; text-decoration-color: #00af00\">1</span>][<span style=\"color: #00af00; text-decoration-color: #00af00\">0</span>],    │\n",
       "│                     │                   │            │ dense_6[<span style=\"color: #00af00; text-decoration-color: #00af00\">1</span>][<span style=\"color: #00af00; text-decoration-color: #00af00\">0</span>]     │\n",
       "└─────────────────────┴───────────────────┴────────────┴───────────────────┘\n",
       "</pre>\n"
      ],
      "text/plain": [
       "┏━━━━━━━━━━━━━━━━━━━━━┳━━━━━━━━━━━━━━━━━━━┳━━━━━━━━━━━━┳━━━━━━━━━━━━━━━━━━━┓\n",
       "┃\u001b[1m \u001b[0m\u001b[1mLayer (type)       \u001b[0m\u001b[1m \u001b[0m┃\u001b[1m \u001b[0m\u001b[1mOutput Shape     \u001b[0m\u001b[1m \u001b[0m┃\u001b[1m \u001b[0m\u001b[1m   Param #\u001b[0m\u001b[1m \u001b[0m┃\u001b[1m \u001b[0m\u001b[1mConnected to     \u001b[0m\u001b[1m \u001b[0m┃\n",
       "┡━━━━━━━━━━━━━━━━━━━━━╇━━━━━━━━━━━━━━━━━━━╇━━━━━━━━━━━━╇━━━━━━━━━━━━━━━━━━━┩\n",
       "│ input_layer_13      │ (\u001b[38;5;45mNone\u001b[0m, \u001b[38;5;34m256\u001b[0m, \u001b[38;5;34m256\u001b[0m,  │          \u001b[38;5;34m0\u001b[0m │ -                 │\n",
       "│ (\u001b[38;5;33mInputLayer\u001b[0m)        │ \u001b[38;5;34m3\u001b[0m)                │            │                   │\n",
       "├─────────────────────┼───────────────────┼────────────┼───────────────────┤\n",
       "│ sequential_2        │ (\u001b[38;5;45mNone\u001b[0m, \u001b[38;5;34m256\u001b[0m, \u001b[38;5;34m256\u001b[0m,  │          \u001b[38;5;34m0\u001b[0m │ input_layer_13[\u001b[38;5;34m0\u001b[0m… │\n",
       "│ (\u001b[38;5;33mSequential\u001b[0m)        │ \u001b[38;5;34m3\u001b[0m)                │            │                   │\n",
       "├─────────────────────┼───────────────────┼────────────┼───────────────────┤\n",
       "│ efficientnetv2-b0   │ (\u001b[38;5;45mNone\u001b[0m, \u001b[38;5;34m8\u001b[0m, \u001b[38;5;34m8\u001b[0m,      │  \u001b[38;5;34m5,919,312\u001b[0m │ sequential_2[\u001b[38;5;34m3\u001b[0m][\u001b[38;5;34m…\u001b[0m │\n",
       "│ (\u001b[38;5;33mFunctional\u001b[0m)        │ \u001b[38;5;34m1280\u001b[0m)             │            │                   │\n",
       "├─────────────────────┼───────────────────┼────────────┼───────────────────┤\n",
       "│ resnet50            │ (\u001b[38;5;45mNone\u001b[0m, \u001b[38;5;34m8\u001b[0m, \u001b[38;5;34m8\u001b[0m,      │ \u001b[38;5;34m23,587,712\u001b[0m │ sequential_2[\u001b[38;5;34m3\u001b[0m][\u001b[38;5;34m…\u001b[0m │\n",
       "│ (\u001b[38;5;33mFunctional\u001b[0m)        │ \u001b[38;5;34m2048\u001b[0m)             │            │                   │\n",
       "├─────────────────────┼───────────────────┼────────────┼───────────────────┤\n",
       "│ convnext_tiny       │ (\u001b[38;5;45mNone\u001b[0m, \u001b[38;5;34m8\u001b[0m, \u001b[38;5;34m8\u001b[0m, \u001b[38;5;34m768\u001b[0m) │ \u001b[38;5;34m27,820,128\u001b[0m │ sequential_2[\u001b[38;5;34m3\u001b[0m][\u001b[38;5;34m…\u001b[0m │\n",
       "│ (\u001b[38;5;33mFunctional\u001b[0m)        │                   │            │                   │\n",
       "├─────────────────────┼───────────────────┼────────────┼───────────────────┤\n",
       "│ global_average_poo… │ (\u001b[38;5;45mNone\u001b[0m, \u001b[38;5;34m1280\u001b[0m)      │          \u001b[38;5;34m0\u001b[0m │ efficientnetv2-b… │\n",
       "│ (\u001b[38;5;33mGlobalAveragePool…\u001b[0m │                   │            │                   │\n",
       "├─────────────────────┼───────────────────┼────────────┼───────────────────┤\n",
       "│ global_average_poo… │ (\u001b[38;5;45mNone\u001b[0m, \u001b[38;5;34m2048\u001b[0m)      │          \u001b[38;5;34m0\u001b[0m │ resnet50[\u001b[38;5;34m1\u001b[0m][\u001b[38;5;34m0\u001b[0m]    │\n",
       "│ (\u001b[38;5;33mGlobalAveragePool…\u001b[0m │                   │            │                   │\n",
       "├─────────────────────┼───────────────────┼────────────┼───────────────────┤\n",
       "│ global_average_poo… │ (\u001b[38;5;45mNone\u001b[0m, \u001b[38;5;34m768\u001b[0m)       │          \u001b[38;5;34m0\u001b[0m │ convnext_tiny[\u001b[38;5;34m1\u001b[0m]… │\n",
       "│ (\u001b[38;5;33mGlobalAveragePool…\u001b[0m │                   │            │                   │\n",
       "├─────────────────────┼───────────────────┼────────────┼───────────────────┤\n",
       "│ dense_4 (\u001b[38;5;33mDense\u001b[0m)     │ (\u001b[38;5;45mNone\u001b[0m, \u001b[38;5;34m1\u001b[0m)         │      \u001b[38;5;34m1,281\u001b[0m │ global_average_p… │\n",
       "├─────────────────────┼───────────────────┼────────────┼───────────────────┤\n",
       "│ dense_5 (\u001b[38;5;33mDense\u001b[0m)     │ (\u001b[38;5;45mNone\u001b[0m, \u001b[38;5;34m1\u001b[0m)         │      \u001b[38;5;34m2,049\u001b[0m │ global_average_p… │\n",
       "├─────────────────────┼───────────────────┼────────────┼───────────────────┤\n",
       "│ dense_6 (\u001b[38;5;33mDense\u001b[0m)     │ (\u001b[38;5;45mNone\u001b[0m, \u001b[38;5;34m1\u001b[0m)         │        \u001b[38;5;34m769\u001b[0m │ global_average_p… │\n",
       "├─────────────────────┼───────────────────┼────────────┼───────────────────┤\n",
       "│ average (\u001b[38;5;33mAverage\u001b[0m)   │ (\u001b[38;5;45mNone\u001b[0m, \u001b[38;5;34m1\u001b[0m)         │          \u001b[38;5;34m0\u001b[0m │ dense_4[\u001b[38;5;34m1\u001b[0m][\u001b[38;5;34m0\u001b[0m],    │\n",
       "│                     │                   │            │ dense_5[\u001b[38;5;34m1\u001b[0m][\u001b[38;5;34m0\u001b[0m],    │\n",
       "│                     │                   │            │ dense_6[\u001b[38;5;34m1\u001b[0m][\u001b[38;5;34m0\u001b[0m]     │\n",
       "└─────────────────────┴───────────────────┴────────────┴───────────────────┘\n"
      ]
     },
     "metadata": {},
     "output_type": "display_data"
    },
    {
     "data": {
      "text/html": [
       "<pre style=\"white-space:pre;overflow-x:auto;line-height:normal;font-family:Menlo,'DejaVu Sans Mono',consolas,'Courier New',monospace\"><span style=\"font-weight: bold\"> Total params: </span><span style=\"color: #00af00; text-decoration-color: #00af00\">57,331,251</span> (218.70 MB)\n",
       "</pre>\n"
      ],
      "text/plain": [
       "\u001b[1m Total params: \u001b[0m\u001b[38;5;34m57,331,251\u001b[0m (218.70 MB)\n"
      ]
     },
     "metadata": {},
     "output_type": "display_data"
    },
    {
     "data": {
      "text/html": [
       "<pre style=\"white-space:pre;overflow-x:auto;line-height:normal;font-family:Menlo,'DejaVu Sans Mono',consolas,'Courier New',monospace\"><span style=\"font-weight: bold\"> Trainable params: </span><span style=\"color: #00af00; text-decoration-color: #00af00\">4,099</span> (16.01 KB)\n",
       "</pre>\n"
      ],
      "text/plain": [
       "\u001b[1m Trainable params: \u001b[0m\u001b[38;5;34m4,099\u001b[0m (16.01 KB)\n"
      ]
     },
     "metadata": {},
     "output_type": "display_data"
    },
    {
     "data": {
      "text/html": [
       "<pre style=\"white-space:pre;overflow-x:auto;line-height:normal;font-family:Menlo,'DejaVu Sans Mono',consolas,'Courier New',monospace\"><span style=\"font-weight: bold\"> Non-trainable params: </span><span style=\"color: #00af00; text-decoration-color: #00af00\">57,327,152</span> (218.69 MB)\n",
       "</pre>\n"
      ],
      "text/plain": [
       "\u001b[1m Non-trainable params: \u001b[0m\u001b[38;5;34m57,327,152\u001b[0m (218.69 MB)\n"
      ]
     },
     "metadata": {},
     "output_type": "display_data"
    }
   ],
   "source": [
    "from tensorflow.keras import Model\n",
    "from tensorflow.keras.layers import Input, Average\n",
    "\n",
    "# Get the inputs of the individual models\n",
    "input_shape = (img_height, img_width, 3)\n",
    "input_tensor = Input(shape=input_shape)\n",
    "\n",
    "# Get the outputs of the individual models (before the final activation if possible, but sigmoid outputs are fine for averaging probabilities)\n",
    "# We need to apply the data augmentation to the input before feeding it to the base models\n",
    "augmented_input = data_augmentation(input_tensor)\n",
    "\n",
    "# Get the output from each trained model's base (unfrozen) part\n",
    "# We need to remove the data augmentation and the final dense layer from the individual models\n",
    "model_effnet_base_output = model_effnet.layers[1](augmented_input) # Get output after base_model_effnet\n",
    "model_resnet_base_output = model_resnet.layers[1](augmented_input) # Get output after base_model_resnet\n",
    "model_convnext_base_output = model_convnext.layers[1](augmented_input) # Get output after base_model_convnext\n",
    "\n",
    "\n",
    "# Apply GlobalAveragePooling2D and Dense layers from each model to their respective base outputs\n",
    "model_effnet_output = model_effnet.layers[2](model_effnet_base_output) # GlobalAveragePooling2D\n",
    "model_effnet_output = model_effnet.layers[3](model_effnet_output) # Dense\n",
    "\n",
    "model_resnet_output = model_resnet.layers[2](model_resnet_base_output) # GlobalAveragePooling2D\n",
    "model_resnet_output = model_resnet.layers[3](model_resnet_output) # Dense\n",
    "\n",
    "model_convnext_output = model_convnext.layers[2](model_convnext_base_output) # GlobalAveragePooling2D\n",
    "model_convnext_output = model_convnext.layers[3](model_convnext_output) # Dense\n",
    "\n",
    "\n",
    "# Average the predictions of the three models\n",
    "ensemble_output = Average()([model_effnet_output, model_resnet_output, model_convnext_output])\n",
    "\n",
    "# Create the ensemble model\n",
    "ensemble_model = Model(inputs=input_tensor, outputs=ensemble_output)\n",
    "\n",
    "# Compile the ensemble model (optimizer and loss function will be the same as individual models)\n",
    "ensemble_model.compile(optimizer='adam',\n",
    "                       loss='binary_crossentropy',\n",
    "                       metrics=['accuracy'])\n",
    "\n",
    "# Display the ensemble model summary\n",
    "ensemble_model.summary()"
   ]
  },
  {
   "cell_type": "markdown",
   "metadata": {
    "id": "1876852d"
   },
   "source": [
    "Now, we will evaluate the performance of the ensemble model on the test data."
   ]
  },
  {
   "cell_type": "code",
   "execution_count": null,
   "metadata": {
    "colab": {
     "base_uri": "https://localhost:8080/"
    },
    "executionInfo": {
     "elapsed": 52021,
     "status": "ok",
     "timestamp": 1757781554876,
     "user": {
      "displayName": "Suraj Jayakumar",
      "userId": "16596262866308992375"
     },
     "user_tz": -330
    },
    "id": "da89d3df",
    "outputId": "22a829c8-8a68-4e57-b13a-b67ccb15fe48"
   },
   "outputs": [
    {
     "name": "stdout",
     "output_type": "stream",
     "text": [
      "\u001b[1m45/45\u001b[0m \u001b[32m━━━━━━━━━━━━━━━━━━━━\u001b[0m\u001b[37m\u001b[0m \u001b[1m43s\u001b[0m 656ms/step - accuracy: 0.9048 - loss: 0.2917\n",
      "Ensemble model loss on test data: 0.23552414774894714\n",
      "Ensemble model accuracy on test data: 0.9392655491828918\n"
     ]
    }
   ],
   "source": [
    "# Evaluate the ensemble model on the test dataset\n",
    "loss, accuracy = ensemble_model.evaluate(test_ds)\n",
    "\n",
    "print(f\"Ensemble model loss on test data: {loss}\")\n",
    "print(f\"Ensemble model accuracy on test data: {accuracy}\")"
   ]
  },
  {
   "cell_type": "markdown",
   "metadata": {
    "id": "437932d9"
   },
   "source": [
    "Now, we will make predictions using the ensemble model on the test data."
   ]
  },
  {
   "cell_type": "code",
   "execution_count": null,
   "metadata": {
    "colab": {
     "base_uri": "https://localhost:8080/"
    },
    "executionInfo": {
     "elapsed": 164041,
     "status": "ok",
     "timestamp": 1757781735931,
     "user": {
      "displayName": "Suraj Jayakumar",
      "userId": "16596262866308992375"
     },
     "user_tz": -330
    },
    "id": "4d5cd507",
    "outputId": "73af56d1-b2bc-4e32-d86f-8efcb6eb9002"
   },
   "outputs": [
    {
     "name": "stdout",
     "output_type": "stream",
     "text": [
      "\u001b[1m45/45\u001b[0m \u001b[32m━━━━━━━━━━━━━━━━━━━━\u001b[0m\u001b[37m\u001b[0m \u001b[1m45s\u001b[0m 820ms/step\n",
      "Sample Predictions:\n",
      "  Prediction: 0, True Label: 0\n",
      "  Prediction: 0, True Label: 0\n",
      "  Prediction: 0, True Label: 0\n",
      "  Prediction: 1, True Label: 0\n",
      "  Prediction: 0, True Label: 0\n",
      "  Prediction: 0, True Label: 0\n",
      "  Prediction: 1, True Label: 0\n",
      "  Prediction: 0, True Label: 0\n",
      "  Prediction: 0, True Label: 0\n",
      "  Prediction: 0, True Label: 0\n"
     ]
    }
   ],
   "source": [
    "# Get predictions for the test dataset\n",
    "predictions = ensemble_model.predict(test_ds)\n",
    "\n",
    "# The predictions are probabilities, convert them to class labels (0 or 1)\n",
    "# A threshold of 0.5 is commonly used for binary classification\n",
    "predicted_classes = (predictions > 0.5).astype(int)\n",
    "\n",
    "# Display some predictions and their corresponding true labels\n",
    "print(\"Sample Predictions:\")\n",
    "for i in range(min(10, len(predicted_classes))): # Displaying first 10 predictions\n",
    "    # Get the true label for the i-th sample in the test_ds\n",
    "    # This requires iterating through the dataset, which can be inefficient for large datasets.\n",
    "    # For a comprehensive evaluation, use metrics like confusion matrix.\n",
    "    # This is just to show a few sample predictions.\n",
    "    true_label = np.concatenate([y for x, y in test_ds], axis=0)[i]\n",
    "    print(f\"  Prediction: {predicted_classes[i][0]}, True Label: {true_label}\")"
   ]
  },
  {
   "cell_type": "markdown",
   "metadata": {
    "id": "60aeca0d"
   },
   "source": [
    "Finally, we will interpret the results and summarize our findings."
   ]
  },
  {
   "cell_type": "code",
   "execution_count": null,
   "metadata": {
    "colab": {
     "base_uri": "https://localhost:8080/",
     "height": 836
    },
    "executionInfo": {
     "elapsed": 11971,
     "status": "ok",
     "timestamp": 1757781748384,
     "user": {
      "displayName": "Suraj Jayakumar",
      "userId": "16596262866308992375"
     },
     "user_tz": -330
    },
    "id": "405635d6",
    "outputId": "c9845f48-54a9-41fb-d886-1ccdac093dfe"
   },
   "outputs": [
    {
     "name": "stdout",
     "output_type": "stream",
     "text": [
      "Classification Report:\n",
      "               precision    recall  f1-score   support\n",
      "\n",
      "       Fraud       0.53      0.76      0.62        93\n",
      "   Non-Fraud       0.98      0.95      0.97      1323\n",
      "\n",
      "    accuracy                           0.94      1416\n",
      "   macro avg       0.75      0.86      0.79      1416\n",
      "weighted avg       0.95      0.94      0.94      1416\n",
      "\n"
     ]
    },
    {
     "data": {
      "image/png": "[encoded data removed]",
      "text/plain": [
       "<Figure size 800x600 with 2 Axes>"
      ]
     },
     "metadata": {},
     "output_type": "display_data"
    },
    {
     "name": "stdout",
     "output_type": "stream",
     "text": [
      "\n",
      "Summary of Findings:\n",
      "- The ensemble model achieved an accuracy of 0.9393 on the test data.\n",
      "- The classification report provides detailed metrics (precision, recall, F1-score) for each class.\n",
      "- The confusion matrix shows the number of true positive, true negative, false positive, and false negative predictions.\n",
      "- These results can be used to identify potential fraudulent claims for further review.\n"
     ]
    }
   ],
   "source": [
    "from sklearn.metrics import classification_report, confusion_matrix\n",
    "import seaborn as sns\n",
    "import matplotlib.pyplot as plt\n",
    "\n",
    "# Get the true labels from the test dataset\n",
    "true_labels = np.concatenate([y for x, y in test_ds], axis=0)\n",
    "\n",
    "# Generate the classification report\n",
    "report = classification_report(true_labels, predicted_classes, target_names=class_names)\n",
    "print(\"Classification Report:\\n\", report)\n",
    "\n",
    "# Generate and display the confusion matrix\n",
    "conf_matrix = confusion_matrix(true_labels, predicted_classes)\n",
    "\n",
    "plt.figure(figsize=(8, 6))\n",
    "sns.heatmap(conf_matrix, annot=True, fmt='d', cmap='Blues', xticklabels=class_names, yticklabels=class_names)\n",
    "plt.xlabel('Predicted Label')\n",
    "plt.ylabel('True Label')\n",
    "plt.title('Confusion Matrix')\n",
    "plt.show()\n",
    "\n",
    "# Summarize findings\n",
    "print(\"\\nSummary of Findings:\")\n",
    "print(f\"- The ensemble model achieved an accuracy of {accuracy:.4f} on the test data.\")\n",
    "print(\"- The classification report provides detailed metrics (precision, recall, F1-score) for each class.\")\n",
    "print(\"- The confusion matrix shows the number of true positive, true negative, false positive, and false negative predictions.\")\n",
    "print(\"- These results can be used to identify potential fraudulent claims for further review.\")"
   ]
  },
  {
   "cell_type": "code",
   "execution_count": null,
   "metadata": {},
   "outputs": [],
   "source": [
    "from tensorflow.keras.models import save_model\n",
    "import os\n",
    "\n",
    "# Define the file path for saving the model\n",
    "model_save_path = os.path.join(os.getcwd(), \"ensemble_model.keras\")  # Save in current working directory\n",
    "\n",
    "# Save the ensemble model\n",
    "save_model(ensemble_model, model_save_path)\n",
    "\n",
    "print(f\"Ensemble model saved successfully to {model_save_path}\")"
   ]
  }
 ],
 "metadata": {
  "colab": {
   "authorship_tag": "ABX9TyPC0z4MNEL5kHSCQugLqHtt",
   "mount_file_id": "1kPeroFrcIwbGFSLld8V34uQSgfLwryx6",
   "provenance": []
  },
  "kernelspec": {
   "display_name": "Python 3",
   "name": "python3"
  },
  "language_info": {
   "codemirror_mode": {
    "name": "ipython",
    "version": 3
   },
   "file_extension": ".py",
   "mimetype": "text/x-python",
   "name": "python",
   "nbconvert_exporter": "python",
   "pygments_lexer": "ipython3",
   "version": "3.11.0"
  }
 },
 "nbformat": 4,
 "nbformat_minor": 0
}
